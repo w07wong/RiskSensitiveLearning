{
 "cells": [
  {
   "cell_type": "code",
   "execution_count": 1,
   "id": "511866f9",
   "metadata": {},
   "outputs": [],
   "source": [
    "import numpy as np\n",
    "import torch\n",
    "import torch.nn as nn\n",
    "import torch.nn.functional as F\n",
    "from sklearn.datasets import make_blobs\n",
    "from sklearn.model_selection import train_test_split\n",
    "import matplotlib.pyplot as plt\n",
    "import random"
   ]
  },
  {
   "cell_type": "code",
   "execution_count": 2,
   "id": "a912904e",
   "metadata": {},
   "outputs": [],
   "source": [
    "def generate_data(seed=15):\n",
    "    num_train = 2000\n",
    "    num_test = 20000\n",
    "    total_points = num_train + num_test\n",
    "    DATA_DIM = 5\n",
    "\n",
    "    # Generate all data\n",
    "    np.random.seed(seed)\n",
    "    X = np.random.normal(loc=0, scale=1, size=(total_points, DATA_DIM))\n",
    "    theta = np.array([1 for _ in range(DATA_DIM)])\n",
    "\n",
    "    # Get training data\n",
    "    X_train = X[:num_train]\n",
    "    eps_train = np.random.normal(loc=0, scale=0.01, size=(num_train, 1))\n",
    "\n",
    "    # Add noise to training labels\n",
    "    y_train = np.array([X_train[i].dot(theta) + eps_train[i] if X_train[i][0] <= 1.645 else X_train[i].dot(theta) + X_train[i][0] + eps_train[i] for i in range(num_train)])\n",
    "\n",
    "    X_train = torch.tensor(X_train, dtype=torch.float)\n",
    "    y_train = torch.tensor(y_train.reshape(-1, 1), dtype=torch.float)\n",
    "\n",
    "    # Get test data\n",
    "    X_test = X[num_train:]\n",
    "    eps_test = np.random.normal(loc=0, scale=0.01, size=(num_test, 1))\n",
    "\n",
    "    # Class indicator\n",
    "    is_majority = [False if X_test[i][0] > 1.645 else True for i in range(num_test)]\n",
    "\n",
    "    # Add noise to test labels\n",
    "    y_test = np.array([X_test[i].dot(theta) + eps_test[i] if X_test[i][0] <= 1.645 else X_test[i].dot(theta) + X_test[i][0] + eps_test[i] for i in range(num_test)])\n",
    "    y_test = y_test.reshape(-1, 1)\n",
    "\n",
    "    return X_train, X_test, y_train, y_test, is_majority"
   ]
  },
  {
   "cell_type": "code",
   "execution_count": 3,
   "id": "7a32b7ff",
   "metadata": {},
   "outputs": [],
   "source": [
    "X_train, X_test, y_train, y_test, is_majority = generate_data()"
   ]
  },
  {
   "cell_type": "code",
   "execution_count": 4,
   "id": "c19b9c34",
   "metadata": {},
   "outputs": [],
   "source": [
    "import sys\n",
    "sys.path.insert(0, '/Users/william/Documents/CMU/Research/RiskSensitiveLearning/Supervised Learning/objectives')\n",
    "import cvar, human_aligned_risk, entropic_risk, trimmed_risk, mean_variance"
   ]
  },
  {
   "cell_type": "code",
   "execution_count": 5,
   "id": "56d95826",
   "metadata": {},
   "outputs": [],
   "source": [
    "input_size = 5\n",
    "h1 = 50\n",
    "h2 = 25\n",
    "epochs = 200\n",
    "\n",
    "class RegressionMLP(nn.Module):\n",
    "    def __init__(self, input_size, h1, h2):\n",
    "        super(RegressionMLP, self).__init__()\n",
    "        self.fc1 = nn.Linear(input_size, h1)\n",
    "        self.fc2 = nn.Linear(h1, h2)\n",
    "        self.fc3 = nn.Linear(h2, 1)\n",
    "\n",
    "    def forward(self, x):\n",
    "        x = self.fc1(x)\n",
    "        x = F.relu(x)\n",
    "        x = self.fc2(x)\n",
    "        x = F.relu(x)\n",
    "        x = self.fc3(x)\n",
    "        return x"
   ]
  },
  {
   "cell_type": "code",
   "execution_count": 35,
   "id": "0271643c",
   "metadata": {
    "scrolled": false
   },
   "outputs": [
    {
     "name": "stdout",
     "output_type": "stream",
     "text": [
      "Objective: Inverted CVaR, Majority MSE: 0.03819034807384014, Minority MSE: 0.8747345209121704, Overall MSE: 0.08006656542420387\n",
      "Objective: Mean-Variance, Majority MSE: 0.030599155463278294, Minority MSE: 0.3587324619293213, Overall MSE: 0.04704507440328598\n",
      "Objective: Trimmed Risk, Majority MSE: 0.038540150970220566, Minority MSE: 0.8289810419082642, Overall MSE: 0.07810477539896965\n"
     ]
    }
   ],
   "source": [
    "seeds = [15, 30]\n",
    "\n",
    "objectives = {\n",
    "    'Expected Value': nn.MSELoss(reduction='mean'),\n",
    "    'CVaR': cvar.CVaR(a=0.35, criterion=nn.MSELoss(reduction='none')), # We look at bottom alpha% of losses\n",
    "    'Entropic Risk': entropic_risk.EntropicRisk(t=0.14, criterion=nn.MSELoss(reduction='none')),\n",
    "    'Human-Aligned Risk': human_aligned_risk.HumanAlignedRisk(a=0.5, b=0, criterion=nn.MSELoss(reduction='none')),\n",
    "    'Inverted CVaR': cvar.CVaR(a=0.99, inverted=True, criterion=nn.MSELoss(reduction='none')), # We look at top alpha% of losses\n",
    "    'Mean-Variance': mean_variance.MeanVariance(c=0.5, criterion=nn.MSELoss(reduction='none')),\n",
    "    'Trimmed Risk': trimmed_risk.TrimmedRisk(a=0.01, criterion=nn.MSELoss(reduction='none')),\n",
    "}\n",
    "\n",
    "for objective in objectives.keys():\n",
    "    majority_risks = []\n",
    "    minority_risks = []\n",
    "    overall_risks = []\n",
    "\n",
    "    for seed in seeds:\n",
    "        X_train, X_test, y_train, y_test, is_majority = generate_data(seed=seed)\n",
    "        # Get objective\n",
    "        criterion = objectives[objective]\n",
    "\n",
    "        # Reset random seeds for comparaison.\n",
    "        torch.manual_seed(seed)\n",
    "        random.seed(seed)\n",
    "        np.random.seed(seed)\n",
    "\n",
    "        model = RegressionMLP(input_size, h1, h2)\n",
    "        \n",
    "        # Train model\n",
    "        model.train()\n",
    "        optimizer = torch.optim.SGD(model.parameters(), lr=0.01, momentum=0.9)\n",
    "\n",
    "        for epoch in range(epochs):\n",
    "            # clear the gradients so they wont accumulate\n",
    "            optimizer.zero_grad()\n",
    "\n",
    "            output = model(X_train)\n",
    "            loss = criterion(output.flatten(), y_train.flatten().type(torch.float32))\n",
    "\n",
    "            # calculate gradient\n",
    "            loss.backward()\n",
    "\n",
    "            # gradient descent\n",
    "            optimizer.step()\n",
    "\n",
    "        # Evaluate model\n",
    "        model.eval()\n",
    "        majority_losses = []\n",
    "        minority_losses = []\n",
    "        overall_losses = []\n",
    "        \n",
    "        criterion = nn.MSELoss(reduction='mean')\n",
    "\n",
    "        with torch.no_grad():\n",
    "            for i, sample in enumerate(list(zip(X_test, y_test))):\n",
    "                X, y = sample\n",
    "                output = model(torch.tensor(X, dtype=torch.float32))\n",
    "\n",
    "                loss = criterion(output, torch.tensor(y, dtype=torch.float32))\n",
    "                if is_majority[i]:\n",
    "                    majority_losses.append(loss)\n",
    "                else:\n",
    "                    minority_losses.append(loss)\n",
    "                overall_losses.append(loss)\n",
    "\n",
    "        majority_risk = torch.mean(torch.tensor(majority_losses)).item()\n",
    "        minority_risk = torch.mean(torch.tensor(minority_losses)).item()\n",
    "        overall_risk = torch.mean(torch.tensor(overall_losses)).item()\n",
    "        majority_risks.append(majority_risk)\n",
    "        minority_risks.append(minority_risk)\n",
    "        overall_risks.append(overall_risk)\n",
    "    print('Objective: {}, Majority MSE: {}, Minority MSE: {}, Overall MSE: {}'.format(objective, np.mean(majority_risks), np.mean(minority_risks), np.mean(overall_risks)))"
   ]
  },
  {
   "cell_type": "code",
   "execution_count": null,
   "id": "3354ab3c",
   "metadata": {},
   "outputs": [],
   "source": []
  }
 ],
 "metadata": {
  "kernelspec": {
   "display_name": "Python 3 (ipykernel)",
   "language": "python",
   "name": "python3"
  },
  "language_info": {
   "codemirror_mode": {
    "name": "ipython",
    "version": 3
   },
   "file_extension": ".py",
   "mimetype": "text/x-python",
   "name": "python",
   "nbconvert_exporter": "python",
   "pygments_lexer": "ipython3",
   "version": "3.8.2"
  }
 },
 "nbformat": 4,
 "nbformat_minor": 5
}
